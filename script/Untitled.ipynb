{
 "cells": [
  {
   "cell_type": "code",
   "execution_count": 4,
   "metadata": {},
   "outputs": [],
   "source": [
    "from rdflib.graph import Graph\n",
    "#https://rdflib.readthedocs.io/en/3.4.0/intro_to_graphs.html#graph-methods-for-accessing-triples"
   ]
  },
  {
   "cell_type": "code",
   "execution_count": 6,
   "metadata": {},
   "outputs": [
    {
     "data": {
      "text/plain": [
       "<Graph identifier=N887de573046340d6970f6a4f2a77ee06 (<class 'rdflib.graph.Graph'>)>"
      ]
     },
     "execution_count": 6,
     "metadata": {},
     "output_type": "execute_result"
    }
   ],
   "source": [
    "file_path='../data/rdf_test.rdf'\n",
    "g = Graph()\n",
    "g.parse(file_path)"
   ]
  },
  {
   "cell_type": "code",
   "execution_count": 11,
   "metadata": {},
   "outputs": [
    {
     "name": "stdout",
     "output_type": "stream",
     "text": [
      "----\n",
      "(rdflib.term.URIRef('http://example.net/Pierre_Dumoulin'),)\n",
      "(rdflib.term.URIRef('http://example.net/Paul_Dupont'),)\n",
      "----\n"
     ]
    }
   ],
   "source": [
    "qres = g.query(\n",
    "    \"\"\"PREFIX rdf: <http://www.w3.org/1999/02/22-rdf-syntax-ns#>\n",
    " PREFIX foaf: <http://xmlns.com/foaf/0.1/>\n",
    " PREFIX dc: <http://purl.org/dc/elements/1.1/>\n",
    " SELECT DISTINCT ?personne\n",
    " WHERE {\n",
    " \t?personne rdf:type foaf:Person.\n",
    " \t?personne foaf:name ?nom.\n",
    " \t?image rdf:type foaf:Image.\n",
    " \t?personne foaf:img ?image.\n",
    " \t?image dc:description ?description\n",
    " } \"\"\")\n",
    "print(\"----\")\n",
    "for row in qres:\n",
    "    print( row)\n",
    "    \n",
    "print(\"----\")"
   ]
  },
  {
   "cell_type": "code",
   "execution_count": null,
   "metadata": {},
   "outputs": [],
   "source": []
  }
 ],
 "metadata": {
  "kernelspec": {
   "display_name": "Python 3",
   "language": "python",
   "name": "python3"
  },
  "language_info": {
   "codemirror_mode": {
    "name": "ipython",
    "version": 3
   },
   "file_extension": ".py",
   "mimetype": "text/x-python",
   "name": "python",
   "nbconvert_exporter": "python",
   "pygments_lexer": "ipython3",
   "version": "3.7.0"
  }
 },
 "nbformat": 4,
 "nbformat_minor": 2
}
