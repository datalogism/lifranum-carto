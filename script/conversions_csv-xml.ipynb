{
 "cells": [
  {
   "cell_type": "markdown",
   "metadata": {},
   "source": [
    "## I. Conversion txt-csv"
   ]
  },
  {
   "cell_type": "code",
   "execution_count": 1,
   "metadata": {},
   "outputs": [
    {
     "name": "stdout",
     "output_type": "stream",
     "text": [
      "           ID                                           Intitulé  \\\n",
      "0  01dec41_01  Des objections qu’on a soulevées dans ces dern...   \n",
      "1  01dec41_02  Des changements survenus dans la situation agr...   \n",
      "2  01dec41_03            Des chemins de fer au 1er décembre 1841   \n",
      "3  01dec41_04  Opinion sur un projet d’ordonnance concernant ...   \n",
      "\n",
      "            Auteur                 Statut  \n",
      "0  Charles Dunoyer  membre de l’Institut   \n",
      "1  Hippolyte Passy  membre de l’Institut   \n",
      "2      H. Dussard                     NaN  \n",
      "3       Horace Say                    NaN  \n"
     ]
    }
   ],
   "source": [
    "import pandas as pd\n",
    "df = pd.read_csv('TMJDE.txt', sep='/') #le séparateur est un \"/\"\n",
    "print(df)"
   ]
  },
  {
   "cell_type": "code",
   "execution_count": 2,
   "metadata": {},
   "outputs": [],
   "source": [
    "df.to_csv('TMJDE.csv', sep = ',', encoding = 'utf-8', header = True, index = False)\n",
    "#header=True renvoie que la première ligne correspond aux noms des variables \n",
    "#index=False permet de ne pas conserver la numérotation automatique des lignes de \"pandas\""
   ]
  },
  {
   "cell_type": "markdown",
   "metadata": {},
   "source": [
    "## II. Conversions csv-xml"
   ]
  },
  {
   "cell_type": "code",
   "execution_count": 3,
   "metadata": {},
   "outputs": [
    {
     "name": "stdout",
     "output_type": "stream",
     "text": [
      "[['01dec41_01', 'Des objections qu’on a soulevées dans ces derniers temps contre le régime de la concurrence', 'Charles Dunoyer', 'membre de l’Institut '], ['01dec41_02', 'Des changements survenus dans la situation agricole du département de l’Eure depuis l’année 1800', 'Hippolyte Passy', 'membre de l’Institut '], ['01dec41_03', 'Des chemins de fer au 1er décembre 1841', 'H. Dussard ', ''], ['01dec41_04', 'Opinion sur un projet d’ordonnance concernant l’organisation de la boucherie', 'Horace Say', '']]\n"
     ]
    }
   ],
   "source": [
    "#on charge les données et on les affiche dans la console afin de vérifier que l'enregistrement s'est bien déroulé\n",
    "import csv              \n",
    "f = open('TMJDE.csv', encoding = 'utf-8')\n",
    "csv_f = csv.reader(f)   \n",
    "data = []\n",
    "\n",
    "for row in csv_f: \n",
    "   data.append(row)\n",
    "f.close()\n",
    "\n",
    "print (data[1:])"
   ]
  },
  {
   "cell_type": "code",
   "execution_count": 4,
   "metadata": {},
   "outputs": [],
   "source": [
    "#à partir de http://code.activestate.com/recipes/577423-convert-csv-to-xml/\n",
    "\n",
    "#on commence par définir le fichier source et le fichier cible\n",
    "csvFile = 'TMJDE.csv'\n",
    "xmlFile = 'TMJDE.xml'\n",
    "\n",
    "csvData = csv.reader(open(csvFile)) #le fichier csv est ouvert en mode lecture\n",
    "xmlData = open(xmlFile, 'w') #on écrit un nouveau fichier xml\n",
    "xmlData.write('<?xml version=\"1.0\" encoding=\"UTF-8\"?>' + \"\\n\") #instanciation du fichier\n",
    "xmlData.write('<csv_data>' + \"\\n\") #balise de format de fichier\n",
    "xmlData.write('<Serie1>' + \"\\n\") #balises liées à la structure de la TM\n",
    "xmlData.write('<Tome1>'+ \"\\n\")\n",
    "\n",
    "rowNum = 0\n",
    "for row in csvData:\n",
    "    if rowNum == 0:\n",
    "        tags = row #chaque variable du csv renvoie à un élément xml\n",
    "        for i in range(len(tags)):\n",
    "            tags[i] = tags[i].replace(' ','_')    \n",
    "    else: \n",
    "        xmlData.write('<row>' + \"\\n\") #construction des balises\n",
    "        for i in range(len(tags)):\n",
    "            xmlData.write('    ' + '<' + tags[i] + '>' \\\n",
    "                          + row[i] + '</' + tags[i] + '>' + \"\\n\")\n",
    "        xmlData.write('</row>' + \"\\n\")\n",
    "            \n",
    "    rowNum +=1\n",
    "\n",
    "xmlData.write('</Tome1>'+ \"\\n\")    \n",
    "xmlData.write('</Serie1>' + \"\\n\")\n",
    "xmlData.write('</csv_data>' + \"\\n\") #clôture de la dernière balise\n",
    "xmlData.close() #fermeture du fichier"
   ]
  },
  {
   "cell_type": "code",
   "execution_count": null,
   "metadata": {},
   "outputs": [],
   "source": []
  }
 ],
 "metadata": {
  "kernelspec": {
   "display_name": "Python 3",
   "language": "python",
   "name": "python3"
  },
  "language_info": {
   "codemirror_mode": {
    "name": "ipython",
    "version": 3
   },
   "file_extension": ".py",
   "mimetype": "text/x-python",
   "name": "python",
   "nbconvert_exporter": "python",
   "pygments_lexer": "ipython3",
   "version": "3.7.3"
  }
 },
 "nbformat": 4,
 "nbformat_minor": 2
}
